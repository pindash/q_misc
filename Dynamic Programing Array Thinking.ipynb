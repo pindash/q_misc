{
 "cells": [
  {
   "cell_type": "code",
   "execution_count": 1,
   "id": "9602d16b",
   "metadata": {
    "slideshow": {
     "slide_type": "skip"
    }
   },
   "outputs": [],
   "source": [
    "import pykx as kx\n",
    "from functools import lru_cache\n",
    "import functools\n",
    "import gc"
   ]
  },
  {
   "cell_type": "markdown",
   "id": "731afd56-fe5e-429b-ac40-54a2e327f75e",
   "metadata": {
    "slideshow": {
     "slide_type": "slide"
    }
   },
   "source": [
    "# Vector Thinking For Max Profit"
   ]
  },
  {
   "cell_type": "markdown",
   "id": "76bac369-ea5a-4429-bb3f-dde5b394b259",
   "metadata": {
    "slideshow": {
     "slide_type": "slide"
    }
   },
   "source": [
    "## Solving four variations of Best Time to Buy and Sell Stock leetcode questions:\n",
    "1. Best Time to Buy and Sell 1 transaction (121)\n",
    "2. Best Time to Buy and Sell unlimited transactions (122)\n",
    "3. Best Time to Buy and Sell 2 transactions (123)\n",
    "4. Best Time to Buy and Sell 2 transactions (188)\n"
   ]
  },
  {
   "cell_type": "markdown",
   "id": "419e9f75-982f-4bff-bd6b-f5450b176deb",
   "metadata": {
    "slideshow": {
     "slide_type": "slide"
    }
   },
   "source": [
    "### Setup:\n",
    "* Given a list of prices of a security, price[i] is price on day i \n",
    "* Find the max profit you could have made\n",
    "* Constraints:\n",
    "    * you must buy before you sell\n",
    "    * you can never hold more than 1 unit"
   ]
  },
  {
   "cell_type": "markdown",
   "id": "61f91e31-19e0-4eb7-96ac-915f85c3e72e",
   "metadata": {
    "slideshow": {
     "slide_type": "slide"
    }
   },
   "source": [
    "### Q for Mortals solution to version 1 \n",
    "#### Jeff Borror gives an excellent version in an offhand explanation of `qsql`\n",
    "\n",
    "``q)select max px-mins px from trades where sym=`aapl``"
   ]
  },
  {
   "cell_type": "markdown",
   "id": "c3498e8a-e621-46df-ac8a-ff65836c2811",
   "metadata": {
    "slideshow": {
     "slide_type": "fragment"
    }
   },
   "source": [
    "#### Two hints if Zen enlightenment is slow to dawn:\n",
    "\n",
    "* Take the perspective of looking back from a potential optimum sell\n",
    "* The optimum buy must happen at a cumulative local minimum; otherwise, you could back up to an earlier, lower price and make a larger profit"
   ]
  },
  {
   "cell_type": "markdown",
   "id": "aa015b07-1cd7-40ad-b5b8-d2332025dff2",
   "metadata": {
    "slideshow": {
     "slide_type": "subslide"
    }
   },
   "source": [
    "### These two hints describe the essential qualities of a dynamic programming problem\n",
    "* Optimal substructure\n",
    "* Overlapping subproblems\n"
   ]
  },
  {
   "cell_type": "markdown",
   "id": "30438bef",
   "metadata": {
    "slideshow": {
     "slide_type": "fragment"
    }
   },
   "source": [
    "### Classically these properties map to a solution involving: \n",
    "* Recursion\n",
    "* Memoization "
   ]
  },
  {
   "cell_type": "markdown",
   "id": "05d8384d",
   "metadata": {
    "slideshow": {
     "slide_type": "subslide"
    }
   },
   "source": [
    "### We can do better using `scan` and `over` iterators via a bottom up approach:\n",
    "* find the shortest path through the computation[^1].\n",
    "\n",
    "[^1]: https://ocw.mit.edu/courses/6-006-introduction-to-algorithms-fall-2011/b6d4083131dd16e7d97f56d04b6e858f_MIT6_006F11_lec19.pdf\n",
    "\n"
   ]
  },
  {
   "cell_type": "markdown",
   "id": "dfe3349a",
   "metadata": {
    "slideshow": {
     "slide_type": "slide"
    }
   },
   "source": [
    "### Let's warm up by looking a bit more closely at the 1 transaction version\n",
    "``/p prices``\n",
    "\n",
    "``{[p]max p - mins p}``\n"
   ]
  },
  {
   "cell_type": "code",
   "execution_count": 2,
   "id": "e00feffe",
   "metadata": {
    "slideshow": {
     "slide_type": "fragment"
    }
   },
   "outputs": [
    {
     "data": {
      "text/plain": [
       "[3, 2, 5, 1, 3, 2, 4, 9, 5, 12, 3, 5]"
      ]
     },
     "execution_count": 2,
     "metadata": {},
     "output_type": "execute_result"
    }
   ],
   "source": [
    "#example prices\n",
    "kprices=kx.q('3 2 5 1 3 2 4 9 5 12 3 5')\n",
    "prices=kprices.py()\n",
    "prices"
   ]
  },
  {
   "cell_type": "markdown",
   "id": "c6cf6e94",
   "metadata": {
    "slideshow": {
     "slide_type": "notes"
    }
   },
   "source": [
    "* The key insight into this problem is that we are looking for the largest difference between the current element and the smallest element we have seen.\n",
    "* To motivate this insight, let’s look at ever larger versions of this problem starting with just one price to detect the pattern.\n"
   ]
  },
  {
   "cell_type": "markdown",
   "id": "f7a8fb7b",
   "metadata": {
    "slideshow": {
     "slide_type": "subslide"
    }
   },
   "source": [
    "* 3 -> 0\n",
    "    * Given just one price we can only buy and sell on the same day, so effectively max profit is 0"
   ]
  },
  {
   "cell_type": "markdown",
   "id": "c52d86bc",
   "metadata": {
    "slideshow": {
     "slide_type": "fragment"
    }
   },
   "source": [
    "* 3 2 -> 0\n",
    "    * Given these two points we can still only earn 0, since we must sell after we buy."
   ]
  },
  {
   "cell_type": "markdown",
   "id": "5c28b17d",
   "metadata": {
    "slideshow": {
     "slide_type": "fragment"
    }
   },
   "source": [
    "* 3 2 5 -> 3\n",
    "    * Now that we have a higher number after a lower number we can plainly see that of the two options buy at 3 or buy at 2, buy at 2 and sell at 5 is better."
   ]
  },
  {
   "cell_type": "markdown",
   "id": "8a294ede",
   "metadata": {
    "slideshow": {
     "slide_type": "subslide"
    }
   },
   "source": [
    "* 3 2 5 1 -> 3\n",
    "    * The answer is still 3, since we can’t sell higher than 5, and even if we bought at 1 at the end there are no days left to sell"
   ]
  },
  {
   "cell_type": "markdown",
   "id": "44867628",
   "metadata": {
    "slideshow": {
     "slide_type": "fragment"
    }
   },
   "source": [
    "* 3 2 5 1 3 -> 3\n",
    "    * We still do best by buying at 2 and selling at 5, buying at 1 and selling at 3 only earns 2."
   ]
  },
  {
   "cell_type": "markdown",
   "id": "857df3e5",
   "metadata": {
    "slideshow": {
     "slide_type": "fragment"
    }
   },
   "source": [
    "* 3 2 5 1 3 2 -> 3\n",
    "    * Plainly the 2 at the end doesn’t improve"
   ]
  },
  {
   "cell_type": "markdown",
   "id": "1ab667ef",
   "metadata": {
    "slideshow": {
     "slide_type": "subslide"
    }
   },
   "source": [
    "* 3 2 5 1 3 2 4 -> 3\n",
    "    * We can now either buy at 2 and sell at 5 or buy at 1 and sell at 4, but our max profit is still 3."
   ]
  },
  {
   "cell_type": "markdown",
   "id": "f57c4e62",
   "metadata": {
    "slideshow": {
     "slide_type": "fragment"
    }
   },
   "source": [
    "* 3 2 5 1 3 2 4 9 -> 8\n",
    "    * Finally, the max profit changes! We can now buy at 1 and sell at 9. As new elements are added the new reward will be a function of the lowest element seen thus far."
   ]
  },
  {
   "cell_type": "code",
   "execution_count": 6,
   "id": "529e5b0a",
   "metadata": {
    "slideshow": {
     "slide_type": "subslide"
    }
   },
   "outputs": [
    {
     "name": "stdout",
     "output_type": "stream",
     "text": [
      "::\n",
      "11\n"
     ]
    }
   ],
   "source": [
    "%%q\n",
    "p:3 2 5 1 3 2 4 9 5 12 3 5 /prices\n",
    "{[p] max p - mins p} p"
   ]
  },
  {
   "cell_type": "code",
   "execution_count": 7,
   "id": "fc5a83fa",
   "metadata": {
    "slideshow": {
     "slide_type": "fragment"
    }
   },
   "outputs": [
    {
     "name": "stdout",
     "output_type": "stream",
     "text": [
      "::\n",
      "px              | 3 2 5 1 3 2 4 9 5 12 3  5 \n",
      "mins_px         | 3 2 2 1 1 1 1 1 1 1  1  1 \n",
      "p_sub_mins_px   | 0 0 3 0 2 1 3 8 4 11 2  4 \n",
      "maxs_p_sub_minsp| 0 0 3 3 3 3 3 8 8 11 11 11\n"
     ]
    }
   ],
   "source": [
    "%%q\n",
    "d:`px`mins_px`p_sub_mins_px`maxs_p_sub_minsp!( \n",
    "  p; /prices\n",
    "  {[p]mins p} p; /mins prices\n",
    "  {[p] p - mins p} p; /p - mins prices\n",
    "  {[p] maxs p - mins p} p) /maxs p - mins prices\n",
    "d"
   ]
  },
  {
   "cell_type": "code",
   "execution_count": 8,
   "id": "f36180fc",
   "metadata": {
    "slideshow": {
     "slide_type": "subslide"
    }
   },
   "outputs": [],
   "source": [
    "#or in python we can write something like:\n",
    "import itertools\n",
    "from operator import sub\n",
    "def max_profit(p): \n",
    "    return max(map(sub,p,itertools.accumulate(p,min)))"
   ]
  },
  {
   "cell_type": "markdown",
   "id": "91199259",
   "metadata": {
    "slideshow": {
     "slide_type": "slide"
    }
   },
   "source": [
    "### Unlimited Transactions case II\n",
    "#### We can benefit from any positive movement since we can only sell after we buy"
   ]
  },
  {
   "cell_type": "markdown",
   "id": "cd585aa5",
   "metadata": {
    "slideshow": {
     "slide_type": "subslide"
    }
   },
   "source": [
    "* Keeping the same price series as before:\n",
    "    * 3 2 5 1 3 2 4 9 5 12 3 5"
   ]
  },
  {
   "cell_type": "markdown",
   "id": "d91a9848",
   "metadata": {
    "slideshow": {
     "slide_type": "fragment"
    }
   },
   "source": [
    "* Let’s look at a smaller example to get some intuition.\n",
    "* 3 2 5 -> 3\n",
    "    * we buy at 2 and sell at 5, purchasing at 3 doesn’t improve our profit since selling at 2 would incur a loss."
   ]
  },
  {
   "cell_type": "markdown",
   "id": "a5e4c40b",
   "metadata": {
    "slideshow": {
     "slide_type": "fragment"
    }
   },
   "source": [
    "*  3 2 5 1 3 -> 5\n",
    "    * buy at 2 sell at 5, buy at 1 sell at 3"
   ]
  },
  {
   "cell_type": "markdown",
   "id": "2349e9ec",
   "metadata": {
    "slideshow": {
     "slide_type": "subslide"
    }
   },
   "source": [
    "* 3 2 5 1 3 2 4 -> 7\n",
    "    * just add one more purchase at 2 and sell at 4,"
   ]
  },
  {
   "cell_type": "markdown",
   "id": "33ac3131",
   "metadata": {
    "slideshow": {
     "slide_type": "fragment"
    }
   },
   "source": [
    "* 3 2 5 1 3 2 4 9 -> 12\n",
    "    * Here it becomes interesting, we can look at two interpretations\n",
    "        * buy at 2 sell at 5 (3),buy at 1 sell at 3 (2), buy 2 sell at 9 (7) for a total of 12\n",
    "\n",
    "        * buy at 2 sell at 5 (3),buy at 1 sell at 3 (2), buy at 2 sell at 4 (2),buy at 4 sell at 9 (5) for a total of 12.\n",
    "#### The two approaches are identical since addition commutes, it doesn’t matter how you get from 2 – 9 you will always earn 7.\n",
    "Which means that we can simply add up the positive steps in the price series. That will be the maximum profit for an unlimited number of transactions:"
   ]
  },
  {
   "cell_type": "code",
   "execution_count": 9,
   "id": "7a9f1953",
   "metadata": {
    "slideshow": {
     "slide_type": "subslide"
    }
   },
   "outputs": [
    {
     "name": "stdout",
     "output_type": "stream",
     "text": [
      "::\n",
      "21\n"
     ]
    }
   ],
   "source": [
    "%%q\n",
    "/sum all the positive adjacent differences\n",
    "{[p] (p>0) wsum p:1 _ deltas p} 3 2 5 1 3 2 4 9 5 12 3 5"
   ]
  },
  {
   "cell_type": "markdown",
   "id": "8dfcb19b",
   "metadata": {
    "slideshow": {
     "slide_type": "slide"
    }
   },
   "source": [
    "### Let's look at version III 2 transactions\n",
    "#### Recognize the symmetry: Divide and Conquer\n",
    "#### The transactions can't overlap"
   ]
  },
  {
   "cell_type": "code",
   "execution_count": 10,
   "id": "080936e4",
   "metadata": {
    "slideshow": {
     "slide_type": "subslide"
    }
   },
   "outputs": [
    {
     "data": {
      "text/plain": [
       "15"
      ]
     },
     "execution_count": 10,
     "metadata": {},
     "output_type": "execute_result"
    }
   ],
   "source": [
    "#assume max_profit function as before:\n",
    "def max_profit(p):\n",
    "    return max(map(sub,p,itertools.accumulate(p,min)))\n",
    "r=range(len(prices))\n",
    "max([max_profit(prices[0:i+1])+max_profit(prices[i:]) for i in r])"
   ]
  },
  {
   "cell_type": "code",
   "execution_count": 11,
   "id": "c4915c04",
   "metadata": {
    "slideshow": {
     "slide_type": "fragment"
    }
   },
   "outputs": [
    {
     "name": "stdout",
     "output_type": "stream",
     "text": [
      "::\n",
      "15\n"
     ]
    }
   ],
   "source": [
    "%%q\n",
    "maxprofit:{[p] max p - mins p}\n",
    "max (maxprofit each _[1] scan p)+maxprofit each reverse _[-1] scan p"
   ]
  },
  {
   "cell_type": "markdown",
   "id": "099196fc",
   "metadata": {
    "slideshow": {
     "slide_type": "subslide"
    }
   },
   "source": [
    "We are calculating max profit over prefixes and suffixes"
   ]
  },
  {
   "cell_type": "markdown",
   "id": "ba313916",
   "metadata": {
    "slideshow": {
     "slide_type": "fragment"
    }
   },
   "source": [
    "We already spent sometime understanding how max profit prefixes behave"
   ]
  },
  {
   "cell_type": "markdown",
   "id": "41ec3fc5",
   "metadata": {
    "slideshow": {
     "slide_type": "subslide"
    }
   },
   "source": [
    "##### Let's look at how suffixes behave"
   ]
  },
  {
   "cell_type": "markdown",
   "id": "63d2a93f",
   "metadata": {
    "slideshow": {
     "slide_type": "fragment"
    }
   },
   "source": [
    "* To get a sense of this, look at the solutions to the suffixes\n",
    "* 3 5 -> 2 (buy at 3 sell at 5)"
   ]
  },
  {
   "cell_type": "markdown",
   "id": "e5cd3995",
   "metadata": {
    "slideshow": {
     "slide_type": "fragment"
    }
   },
   "source": [
    "* 12 3 5 -> 2 (buy at 3 sell at 5)"
   ]
  },
  {
   "cell_type": "markdown",
   "id": "873a07da",
   "metadata": {
    "slideshow": {
     "slide_type": "fragment"
    }
   },
   "source": [
    "* 5 12 3 5 -> 7 (buy at 5 sell at 12)"
   ]
  },
  {
   "cell_type": "markdown",
   "id": "4cf958a4",
   "metadata": {
    "slideshow": {
     "slide_type": "fragment"
    }
   },
   "source": [
    "* 9 5 12 3 5 -> 7 (buy at 5 sell at 12)"
   ]
  },
  {
   "cell_type": "markdown",
   "id": "988ff48f",
   "metadata": {
    "slideshow": {
     "slide_type": "fragment"
    }
   },
   "source": [
    "* 4 9 5 12 3 5 -> 8 (buy at 4 sell at 12)"
   ]
  },
  {
   "cell_type": "markdown",
   "id": "6671c91c",
   "metadata": {
    "slideshow": {
     "slide_type": "subslide"
    }
   },
   "source": [
    "We can see that the suffixes are governed by the largest element we can sell into, \n",
    "\n",
    "i.e. the rolling max and the current element at the left\n",
    "\n",
    "Which leads us to this solution in q:"
   ]
  },
  {
   "cell_type": "code",
   "execution_count": 23,
   "id": "e624e1d9",
   "metadata": {
    "slideshow": {
     "slide_type": "fragment"
    }
   },
   "outputs": [
    {
     "name": "stdout",
     "output_type": "stream",
     "text": [
      "15\n"
     ]
    }
   ],
   "source": [
    "%%q\n",
    "{max reverse[maxs maxs[x]-x:reverse x]+maxs x-mins x} p"
   ]
  },
  {
   "cell_type": "markdown",
   "id": "d942e459",
   "metadata": {
    "slideshow": {
     "slide_type": "slide"
    }
   },
   "source": [
    "### Finally Let's Tackle k transactions IV"
   ]
  },
  {
   "cell_type": "markdown",
   "id": "c37199a6",
   "metadata": {
    "slideshow": {
     "slide_type": "fragment"
    }
   },
   "source": [
    "#### this time we can start with the recursive solution\n",
    "To quote MIT’s Erik Demaine CS6006 dynamic programing is recursion plus memoization."
   ]
  },
  {
   "cell_type": "markdown",
   "id": "febf724f",
   "metadata": {
    "slideshow": {
     "slide_type": "subslide"
    }
   },
   "source": [
    "* Let’s setup the recursive solution: \n",
    "* and assume we are at a particular (i)ndex in our price series, with k transactions left.\n",
    "* Let’s start with the base cases:\n",
    "    * If k equals 0 \n",
    "        * return 0\n",
    "    * If i is greater than the last index, i.e. there are no elements left in the list:\n",
    "        * return 0"
   ]
  },
  {
   "cell_type": "markdown",
   "id": "e0ef66c6",
   "metadata": {
    "slideshow": {
     "slide_type": "subslide"
    }
   },
   "source": [
    "* Otherwise the solution to the problem is simply the maximum of 2 options:\n",
    "    * do nothing at this step:\n",
    "        * 0+the function increment i\n",
    "    * do something:\n",
    "        * If we are (h)olding a share we can sell \n",
    "            * which adds the current price + the result of:\n",
    "               * function with one less k and i incremented\n",
    "            * we are no longer holding a share\n",
    "        * Otherwise we buy at this step, \n",
    "            * subtract current price (we spend money to buy) + the result of\n",
    "                * this function with i incremented\n",
    "            * we are holding a share"
   ]
  },
  {
   "cell_type": "code",
   "execution_count": 13,
   "id": "cf8843d6",
   "metadata": {
    "slideshow": {
     "slide_type": "subslide"
    }
   },
   "outputs": [
    {
     "name": "stdout",
     "output_type": "stream",
     "text": [
      "::\n",
      "::\n"
     ]
    }
   ],
   "source": [
    "%%q\n",
    "cache:(0b,'0,'til[count p])!count[p]#0;\n",
    "f:{[h;k;i]$[i=count p;0;(h;k;i) in key cache;cache[(h;k;i)];\n",
    " :cache[(h;k;i)]:.z.s[h;k;i+1]|$[h;p[i]+.z.s[0b;k-1;i+1];.z.s[1b;k;i+1]-p i]]}\n"
   ]
  },
  {
   "cell_type": "markdown",
   "id": "6e263ff3",
   "metadata": {
    "slideshow": {
     "slide_type": "fragment"
    }
   },
   "source": [
    "We can test this and see that it results in the right answer for k=0,1,2"
   ]
  },
  {
   "cell_type": "code",
   "execution_count": 14,
   "id": "841aef06",
   "metadata": {
    "slideshow": {
     "slide_type": "fragment"
    }
   },
   "outputs": [
    {
     "name": "stdout",
     "output_type": "stream",
     "text": [
      "0\n",
      "11\n",
      "15\n",
      "18\n",
      "20\n",
      "21\n"
     ]
    }
   ],
   "source": [
    "%%q\n",
    "f[0b;0;0] /0 no surprise with 0 transaction no profit is possible\n",
    "f[0b;1;0] /11 the original problem\n",
    "f[0b;2;0] /15 buy at 1, sell at 9, buy at 5 sell at 12\n",
    "f[0b;3;0] /??\n",
    "f[0b;4;0] /??\n",
    "f[0b;5;0] /??"
   ]
  },
  {
   "cell_type": "markdown",
   "id": "6461c759",
   "metadata": {
    "slideshow": {
     "slide_type": "subslide"
    }
   },
   "source": [
    "#### Can we do better?\n",
    "However, we know that a vector solution is possible for k=1,2,infinity,\n",
    "\n",
    "* We might hope there is a vector solution for when k is 3 and above.\n",
    "\n",
    "* We can analyze the intermediate results of the cache to get some sense of this."
   ]
  },
  {
   "cell_type": "code",
   "execution_count": 15,
   "id": "201d5596",
   "metadata": {
    "slideshow": {
     "slide_type": "fragment"
    }
   },
   "outputs": [
    {
     "name": "stdout",
     "output_type": "stream",
     "text": [
      "::\n",
      " | 0 1 2 3 4 5  6  7  8  9  10 11\n",
      "-| ------------------------------\n",
      "0| 0 0 0 0 0 0  0  0  0  0  0  0 \n",
      "1| 0 2 2 7 7 8  10 10 11 11 11 11\n",
      "2| 0 2 2 9 9 12 14 14 15 15 15 15\n",
      "3| 0 2 2 9 9 14 16 16 17 17 18 18\n",
      "4| 0 2 2 9 9 14 16 16 18 18 20 20\n",
      "5| 0 2 2 9 9 14 16 16 18 18 21 21\n"
     ]
    }
   ],
   "source": [
    "%%q\n",
    "t:(flip `h`k`j!flip key cache)!([]v:value cache);\n",
    "exec (`$string[asc j])!v by k from t where not h "
   ]
  },
  {
   "cell_type": "markdown",
   "id": "db584adb",
   "metadata": {
    "slideshow": {
     "slide_type": "notes"
    }
   },
   "source": [
    "What we might notice is that the first row is the running maximum from selling at the prefixes. \n",
    "Then it’s the combination of the previous row and 1 additional transaction. \n",
    "In other words, each row allows you to spend money from the previous row and sell at the current price.\n"
   ]
  },
  {
   "cell_type": "code",
   "execution_count": 16,
   "id": "2a3bc2b6",
   "metadata": {
    "slideshow": {
     "slide_type": "subslide"
    }
   },
   "outputs": [
    {
     "name": "stdout",
     "output_type": "stream",
     "text": [
      "::\n",
      " | 0 1 2 3 4 5  6  7  8  9  10 11\n",
      "-| ------------------------------\n",
      "0| 0 0 0 0 0 0  0  0  0  0  0  0 \n",
      "1| 0 2 2 7 7 8  10 10 11 11 11 11\n",
      "2| 0 2 2 9 9 12 14 14 15 15 15 15\n",
      "3| 0 2 2 9 9 14 16 16 17 17 18 18\n",
      "4| 0 2 2 9 9 14 16 16 18 18 20 20\n",
      "5| 0 2 2 9 9 14 16 16 18 18 21 21\n"
     ]
    }
   ],
   "source": [
    "%%q\n",
    "t:(flip `h`k`j!flip key cache)!([]v:value cache);\n",
    "exec (`$string[asc j])!v by k from t where not h "
   ]
  },
  {
   "cell_type": "markdown",
   "id": "969bf35d",
   "metadata": {
    "slideshow": {
     "slide_type": "fragment"
    }
   },
   "source": [
    "We notice that each row is the previous row + 1 additional transaction"
   ]
  },
  {
   "cell_type": "markdown",
   "id": "eddd8b35",
   "metadata": {
    "slideshow": {
     "slide_type": "fragment"
    }
   },
   "source": [
    "Putting this into action we get the following:"
   ]
  },
  {
   "cell_type": "code",
   "execution_count": 17,
   "id": "be3b5654",
   "metadata": {
    "slideshow": {
     "slide_type": "subslide"
    }
   },
   "outputs": [
    {
     "name": "stdout",
     "output_type": "stream",
     "text": [
      "::\n",
      "0\n",
      "11\n",
      "15\n",
      "18\n",
      "20\n",
      "21\n"
     ]
    }
   ],
   "source": [
    "%%q\n",
    "maxprofitk:{[k;p]last {maxs x+maxs y-x}[p]/[k;p*0]}\n",
    "maxprofitk[0;p]\n",
    "maxprofitk[1;p]\n",
    "maxprofitk[2;p]\n",
    "maxprofitk[3;p]\n",
    "maxprofitk[4;p]\n",
    "maxprofitk[5;p]"
   ]
  },
  {
   "cell_type": "markdown",
   "id": "3a5b591e",
   "metadata": {
    "slideshow": {
     "slide_type": "slide"
    }
   },
   "source": [
    "### Finally if we take a closer look at the inner function \n",
    "``{[p;c] maxs p +maxs c - p }[p]``\n",
    "\n",
    "we might notice something funny: `` maxs c - p `` is the same as `` mins p -`` \n",
    "\n",
    "we can omit the current state variable"
   ]
  },
  {
   "cell_type": "markdown",
   "id": "6e7aa00b",
   "metadata": {
    "slideshow": {
     "slide_type": "subslide"
    }
   },
   "source": [
    "### Which leads us to this super elegant solution"
   ]
  },
  {
   "cell_type": "code",
   "execution_count": 24,
   "id": "a6228724",
   "metadata": {
    "scrolled": false,
    "slideshow": {
     "slide_type": "fragment"
    }
   },
   "outputs": [
    {
     "name": "stdout",
     "output_type": "stream",
     "text": [
      "::\n",
      "::\n",
      "::\n",
      "::\n",
      "0 0 3 3 3 3 3 8 8 11 11 11\n",
      "0 0 3 3 5 5 6 11 11 15 15 15\n",
      "0 0 3 3 5 5 7 12 12 18 18 18\n",
      "0 0 3 3 5 5 7 12 12 19 19 21\n"
     ]
    }
   ],
   "source": [
    "%%q\n",
    "k:3\n",
    "p:3 2 5 1 3 2 4 9 5 12 3 5\n",
    "P:maxs p- mins p- /General Max Profit expresion\n",
    "/solutions \n",
    "P 0 /1 transaction\n",
    "P P 0 /2 transactions\n",
    "P/[k;0] /k transactions\n",
    "P/[0] /unlimited transactions"
   ]
  },
  {
   "cell_type": "markdown",
   "id": "98b641ba",
   "metadata": {
    "slideshow": {
     "slide_type": "slide"
    }
   },
   "source": [
    "# Questions?"
   ]
  },
  {
   "cell_type": "markdown",
   "id": "cf6ecde2",
   "metadata": {
    "slideshow": {
     "slide_type": "slide"
    }
   },
   "source": [
    "## Appendix"
   ]
  },
  {
   "cell_type": "code",
   "execution_count": 3,
   "id": "da766dc5",
   "metadata": {
    "slideshow": {
     "slide_type": "subslide"
    }
   },
   "outputs": [
    {
     "data": {
      "text/plain": [
       "11"
      ]
     },
     "execution_count": 3,
     "metadata": {},
     "output_type": "execute_result"
    }
   ],
   "source": [
    "#https://leetcode.com/problems/best-time-to-buy-and-sell-stock/solutions/1956412/python3-top-down-recursion-memoization/?languageTags=python3&topicTags=recursion\n",
    "def max_profit(prices: list[int], k=1) -> int:\n",
    "    @lru_cache(None)\n",
    "    def rec(i, k, f):\n",
    "        if k == 0 or i == len(prices):\n",
    "            return 0\n",
    "        c1 = rec(i+1, k, f) # we dont buy or sell\n",
    "        c2 = 0\n",
    "        if f:\n",
    "            c2 = rec(i+1, k-1, False) + prices[i]  # we sell\n",
    "        else:\n",
    "            c2 = rec(i+1, k, True) - prices[i]  # we buy\n",
    "        return max(c1, c2)\n",
    "\n",
    "    return rec(0, k, False)  # k == 1, means, can do only 1 transaction\n",
    "max_profit(prices)"
   ]
  },
  {
   "cell_type": "code",
   "execution_count": null,
   "id": "477ef870",
   "metadata": {
    "slideshow": {
     "slide_type": "skip"
    }
   },
   "outputs": [],
   "source": []
  },
  {
   "cell_type": "code",
   "execution_count": 4,
   "id": "23133606",
   "metadata": {
    "slideshow": {
     "slide_type": "subslide"
    }
   },
   "outputs": [
    {
     "name": "stdout",
     "output_type": "stream",
     "text": [
      "::\n",
      "::\n",
      "::\n",
      "::\n",
      "11\n"
     ]
    }
   ],
   "source": [
    "%%q\n",
    "/classical version using memoization\n",
    ".memo.M:{[f].memo.f[f]:()!();{[f;x]$[any x~/:key .memo.f[f];.memo.f[f;x];:first .memo.f[f;enlist x]:f[x]]}[f]}; .memo.f:()!();\n",
    "rec:.memo.M {[x] p:x`p;i:x`i;k:x`k;f:x`f;\n",
    "     if[(i=count p)|k=0;:0];\n",
    "    c1:rec[`p`i`k`f!(p;i+1;k;f)];\n",
    "    c2:$[f;\n",
    "         rec[`p`i`k`f!(p;i+1;k-1;0b)] + p i;\n",
    "         rec[`p`i`k`f!(p;i+1;k;1b)] - p i];\n",
    "     :c1|c2};\n",
    "maxProfit:{[prices] rec[`p`i`k`f!(prices;0;1;0b)]};\n",
    "maxProfit 3 2 5 1 3 2 4 9 5 12 3 5"
   ]
  },
  {
   "cell_type": "code",
   "execution_count": 5,
   "id": "19cd2ccc",
   "metadata": {
    "slideshow": {
     "slide_type": "subslide"
    }
   },
   "outputs": [
    {
     "data": {
      "text/plain": [
       "11"
      ]
     },
     "execution_count": 5,
     "metadata": {},
     "output_type": "execute_result"
    }
   ],
   "source": [
    "#or from python calling q\n",
    "qmaxProfit=kx.q('maxProfit')\n",
    "qmaxProfit(kprices).py()"
   ]
  },
  {
   "cell_type": "code",
   "execution_count": 21,
   "id": "37093051",
   "metadata": {
    "slideshow": {
     "slide_type": "skip"
    }
   },
   "outputs": [
    {
     "name": "stdout",
     "output_type": "stream",
     "text": [
      "::\n",
      "66\n"
     ]
    }
   ],
   "source": [
    "%%q\n",
    "r:{[x] p:x`p;i:x`i;k:x`k;f:x`f;\n",
    "     if[(i=count p)|k=0;:0];\n",
    "    c1:rec[`p`i`k`f!(p;i+1;k;f)];\n",
    "    c2:$[f;\n",
    "         rec[`p`i`k`f!(p;i+1;k-1;0b)] + p i;\n",
    "         rec[`p`i`k`f!(p;i+1;k;1b)] - p i];\n",
    "     :c1|c2};\n",
    "\\t:100 .memo.f[r]:()!();maxProfit 3 2 5 1 3 2 4 9 5 12 3 5"
   ]
  },
  {
   "cell_type": "code",
   "execution_count": 22,
   "id": "b2827ac4",
   "metadata": {
    "slideshow": {
     "slide_type": "skip"
    }
   },
   "outputs": [],
   "source": [
    "'''\n",
    "clear all caches to allow timings\n",
    "'''\n",
    "gc.collect()\n",
    "wrappers = [\n",
    "    a for a in gc.get_objects() \n",
    "    if isinstance(a, functools._lru_cache_wrapper)]\n",
    "\n",
    "for wrapper in wrappers:\n",
    "    wrapper.cache_clear()"
   ]
  }
 ],
 "metadata": {
  "celltoolbar": "Slideshow",
  "kernelspec": {
   "display_name": "Python 3 (ipykernel)",
   "language": "python",
   "name": "python3"
  },
  "language_info": {
   "codemirror_mode": {
    "name": "ipython",
    "version": 3
   },
   "file_extension": ".py",
   "mimetype": "text/x-python",
   "name": "python",
   "nbconvert_exporter": "python",
   "pygments_lexer": "ipython3",
   "version": "3.10.9"
  }
 },
 "nbformat": 4,
 "nbformat_minor": 5
}
